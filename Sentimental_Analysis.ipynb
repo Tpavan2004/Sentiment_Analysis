{
  "nbformat": 4,
  "nbformat_minor": 0,
  "metadata": {
    "colab": {
      "provenance": [],
      "authorship_tag": "ABX9TyNhFFxnhelH/J7tePDRrGN7",
      "include_colab_link": true
    },
    "kernelspec": {
      "name": "python3",
      "display_name": "Python 3"
    },
    "language_info": {
      "name": "python"
    }
  },
  "cells": [
    {
      "cell_type": "markdown",
      "metadata": {
        "id": "view-in-github",
        "colab_type": "text"
      },
      "source": [
        "<a href=\"https://colab.research.google.com/github/Tpavan2004/Sentiment_Analysis/blob/main/Sentimental_Analysis.ipynb\" target=\"_parent\"><img src=\"https://colab.research.google.com/assets/colab-badge.svg\" alt=\"Open In Colab\"/></a>"
      ]
    },
    {
      "cell_type": "code",
      "execution_count": 3,
      "metadata": {
        "id": "tJtQaSIKSDwZ"
      },
      "outputs": [],
      "source": [
        "import pandas as pd\n",
        "from sklearn.model_selection import train_test_split\n",
        "from sklearn.feature_extraction.text import TfidfVectorizer\n",
        "from sklearn.naive_bayes import MultinomialNB\n",
        "from sklearn.linear_model import LogisticRegression\n",
        "from sklearn.tree import DecisionTreeClassifier\n",
        "from sklearn.neighbors import KNeighborsClassifier\n",
        "from sklearn.metrics import accuracy_score, classification_report"
      ]
    },
    {
      "cell_type": "code",
      "source": [
        "# Load the dataset\n",
        "file_path = 'Reviews.csv'\n",
        "data = pd.read_csv(file_path)\n",
        "\n",
        "# Preprocess the data (remove NaNs, etc.)\n",
        "data.dropna(inplace=True)"
      ],
      "metadata": {
        "id": "N7a8O8U5SfWK"
      },
      "execution_count": 4,
      "outputs": []
    },
    {
      "cell_type": "code",
      "source": [
        "# Split the data into training and testing sets\n",
        "X_train, X_test, y_train, y_test = train_test_split(data['Review'], data['Liked'], test_size=0.2, random_state=42)\n",
        "\n",
        "# Convert text data to numerical data using TF-IDF\n",
        "vectorizer = TfidfVectorizer(stop_words='english', max_features=5000)\n",
        "X_train_tfidf = vectorizer.fit_transform(X_train)\n",
        "X_test_tfidf = vectorizer.transform(X_test)\n"
      ],
      "metadata": {
        "id": "gxlUnYnDS1QU"
      },
      "execution_count": 11,
      "outputs": []
    },
    {
      "cell_type": "code",
      "source": [
        "# Dictionary to store model results\n",
        "results = {}\n",
        "\n",
        "# Multinomial Naive Bayes\n",
        "nb_model = MultinomialNB()\n",
        "nb_model.fit(X_train_tfidf, y_train)\n",
        "nb_pred = nb_model.predict(X_test_tfidf)\n",
        "results['Multinomial Naive Bayes'] = {\n",
        "    \"Accuracy\": accuracy_score(y_test, nb_pred),\n",
        "    \"Report\": classification_report(y_test, nb_pred)\n",
        "}"
      ],
      "metadata": {
        "id": "89G3Ce0cSfcX"
      },
      "execution_count": 12,
      "outputs": []
    },
    {
      "cell_type": "code",
      "source": [
        "# Logistic Regression\n",
        "lr_model = LogisticRegression(max_iter=1000)\n",
        "lr_model.fit(X_train_tfidf, y_train)\n",
        "lr_pred = lr_model.predict(X_test_tfidf)\n",
        "results['Logistic Regression'] = {\n",
        "    \"Accuracy\": accuracy_score(y_test, lr_pred),\n",
        "    \"Report\": classification_report(y_test, lr_pred)\n",
        "}"
      ],
      "metadata": {
        "id": "OiyHRwjLSfg_"
      },
      "execution_count": 13,
      "outputs": []
    },
    {
      "cell_type": "code",
      "source": [
        "# Decision Tree\n",
        "dt_model = DecisionTreeClassifier()\n",
        "dt_model.fit(X_train_tfidf, y_train)\n",
        "dt_pred = dt_model.predict(X_test_tfidf)\n",
        "results['Decision Tree'] = {\n",
        "    \"Accuracy\": accuracy_score(y_test, dt_pred),\n",
        "    \"Report\": classification_report(y_test, dt_pred)\n",
        "}"
      ],
      "metadata": {
        "id": "jKgFoZDqSfmy"
      },
      "execution_count": 14,
      "outputs": []
    },
    {
      "cell_type": "code",
      "source": [
        "# K-Nearest Neighbors\n",
        "knn_model = KNeighborsClassifier()\n",
        "knn_model.fit(X_train_tfidf, y_train)\n",
        "knn_pred = knn_model.predict(X_test_tfidf)\n",
        "results['K-Nearest Neighbors'] = {\n",
        "    \"Accuracy\": accuracy_score(y_test, knn_pred),\n",
        "    \"Report\": classification_report(y_test, knn_pred)\n",
        "}"
      ],
      "metadata": {
        "id": "7LUM7Xi8SfqM"
      },
      "execution_count": 15,
      "outputs": []
    },
    {
      "cell_type": "code",
      "source": [
        "\n",
        "# Print the results\n",
        "for model_name, metrics in results.items():\n",
        "    print(f\"\\n{model_name}:\\nAccuracy: {metrics['Accuracy']}\")\n",
        "    print(f\"Classification Report:\\n{metrics['Report']}\")"
      ],
      "metadata": {
        "colab": {
          "base_uri": "https://localhost:8080/"
        },
        "id": "XZS-GATHSf1W",
        "outputId": "0bceb930-512b-4b9e-c25f-89c0f478b345"
      },
      "execution_count": 16,
      "outputs": [
        {
          "output_type": "stream",
          "name": "stdout",
          "text": [
            "\n",
            "Multinomial Naive Bayes:\n",
            "Accuracy: 0.785\n",
            "Classification Report:\n",
            "              precision    recall  f1-score   support\n",
            "\n",
            "           0       0.77      0.78      0.78        96\n",
            "           1       0.80      0.79      0.79       104\n",
            "\n",
            "    accuracy                           0.79       200\n",
            "   macro avg       0.78      0.78      0.78       200\n",
            "weighted avg       0.79      0.79      0.79       200\n",
            "\n",
            "\n",
            "Logistic Regression:\n",
            "Accuracy: 0.77\n",
            "Classification Report:\n",
            "              precision    recall  f1-score   support\n",
            "\n",
            "           0       0.73      0.83      0.78        96\n",
            "           1       0.82      0.71      0.76       104\n",
            "\n",
            "    accuracy                           0.77       200\n",
            "   macro avg       0.77      0.77      0.77       200\n",
            "weighted avg       0.78      0.77      0.77       200\n",
            "\n",
            "\n",
            "Decision Tree:\n",
            "Accuracy: 0.69\n",
            "Classification Report:\n",
            "              precision    recall  f1-score   support\n",
            "\n",
            "           0       0.65      0.75      0.70        96\n",
            "           1       0.73      0.63      0.68       104\n",
            "\n",
            "    accuracy                           0.69       200\n",
            "   macro avg       0.69      0.69      0.69       200\n",
            "weighted avg       0.70      0.69      0.69       200\n",
            "\n",
            "\n",
            "K-Nearest Neighbors:\n",
            "Accuracy: 0.515\n",
            "Classification Report:\n",
            "              precision    recall  f1-score   support\n",
            "\n",
            "           0       0.50      0.99      0.66        96\n",
            "           1       0.89      0.08      0.14       104\n",
            "\n",
            "    accuracy                           0.52       200\n",
            "   macro avg       0.69      0.53      0.40       200\n",
            "weighted avg       0.70      0.52      0.39       200\n",
            "\n"
          ]
        }
      ]
    },
    {
      "cell_type": "code",
      "source": [],
      "metadata": {
        "id": "tfZIrdFPS9oK"
      },
      "execution_count": 10,
      "outputs": []
    }
  ]
}